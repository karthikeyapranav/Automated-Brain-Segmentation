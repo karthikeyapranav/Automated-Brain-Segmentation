{
 "cells": [
  {
   "cell_type": "code",
   "execution_count": 1,
   "metadata": {},
   "outputs": [
    {
     "name": "stderr",
     "output_type": "stream",
     "text": [
      "C:\\Users\\dell\\AppData\\Local\\Packages\\PythonSoftwareFoundation.Python.3.8_qbz5n2kfra8p0\\LocalCache\\local-packages\\Python38\\site-packages\\tqdm\\auto.py:21: TqdmWarning: IProgress not found. Please update jupyter and ipywidgets. See https://ipywidgets.readthedocs.io/en/stable/user_install.html\n",
      "  from .autonotebook import tqdm as notebook_tqdm\n"
     ]
    },
    {
     "name": "stdout",
     "output_type": "stream",
     "text": [
      "train_loader saved successfully!\n"
     ]
    }
   ],
   "source": [
    "import glob\n",
    "import pickle\n",
    "from monai.transforms import Compose, NormalizeIntensityd, ResizeD, RandFlipd\n",
    "from monai.data import Dataset, DataLoader\n",
    "from dataset import BraTSDataset  # Import dataset class\n",
    "\n",
    "# Define data directory\n",
    "data_dir = r\"D:/Automated Brain Segmentation/brats2020-training-data/versions/3/BraTS2020_training_data/content/data\"\n",
    "h5_files = sorted(glob.glob(f\"{data_dir}/*.h5\"))\n",
    "\n",
    "# Define MONAI transforms\n",
    "transform = Compose([\n",
    "    NormalizeIntensityd(keys=[\"image\"]),\n",
    "    ResizeD(keys=[\"image\", \"label\"], spatial_size=(128, 128, 128)),  # Resize\n",
    "    RandFlipd(keys=[\"image\", \"label\"], prob=0.5, spatial_axis=0)  # Augmentation\n",
    "])\n",
    "\n",
    "# Create dataset & DataLoader\n",
    "train_ds = BraTSDataset(file_paths=h5_files, transform=transform)\n",
    "train_loader = DataLoader(train_ds, batch_size=2, shuffle=True, num_workers=0)\n",
    "\n",
    "# Save train_loader\n",
    "with open(\"train_loader.pkl\", \"wb\") as f:\n",
    "    pickle.dump(train_loader, f)\n",
    "\n",
    "print(\"train_loader saved successfully!\")\n"
   ]
  },
  {
   "cell_type": "code",
   "execution_count": null,
   "metadata": {},
   "outputs": [],
   "source": []
  }
 ],
 "metadata": {
  "kernelspec": {
   "display_name": "Python 3",
   "language": "python",
   "name": "python3"
  },
  "language_info": {
   "codemirror_mode": {
    "name": "ipython",
    "version": 3
   },
   "file_extension": ".py",
   "mimetype": "text/x-python",
   "name": "python",
   "nbconvert_exporter": "python",
   "pygments_lexer": "ipython3",
   "version": "3.8.10"
  }
 },
 "nbformat": 4,
 "nbformat_minor": 2
}
